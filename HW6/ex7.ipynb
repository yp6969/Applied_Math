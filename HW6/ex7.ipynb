{
 "cells": [
  {
   "cell_type": "code",
   "execution_count": 8,
   "metadata": {},
   "outputs": [],
   "source": [
    "import numpy as np\n",
    "import matplotlib.pyplot as plt\n",
    "import pandas as pd"
   ]
  },
  {
   "cell_type": "code",
   "execution_count": 16,
   "metadata": {},
   "outputs": [],
   "source": [
    "df = pd.read_csv(\"adult.csv\")"
   ]
  },
  {
   "cell_type": "code",
   "execution_count": 17,
   "metadata": {},
   "outputs": [],
   "source": [
    "female = df.loc[(df[\"sex\"] == \"Female\"), 'hr_per_week']\n",
    "male = df.loc[(df[\"sex\"] == \"Male\"), 'hr_per_week']"
   ]
  },
  {
   "cell_type": "code",
   "execution_count": 36,
   "metadata": {},
   "outputs": [
    {
     "name": "stdout",
     "output_type": "stream",
     "text": [
      "Woman average  36.410361154953115 \n",
      " Woman median  40.0 \n",
      " Woman Std  11.81129954748725 \n",
      " Woman Quad 10.0 \n",
      "\n",
      " Man average  42.42808627810923 \n",
      " Man median  40.0 \n",
      " Man Std  12.119755243874367 \n",
      " Man Quad 9.0\n"
     ]
    }
   ],
   "source": [
    "print('Woman average ', female.mean(),'\\n',\n",
    "'Woman median ', female.median(),'\\n',\n",
    "'Woman Std ', female.std(),'\\n',\n",
    "'Woman Quad', female.quantile(0.75)-female.quantile(0.25),'\\n\\n',\n",
    "'Man average ', male.mean(),'\\n',\n",
    "'Man median ', male.median(),'\\n',\n",
    "'Man Std ', male.std(),'\\n',\n",
    "'Man Quad', male.quantile(0.75)-male.quantile(0.25))\n"
   ]
  },
  {
   "cell_type": "code",
   "execution_count": 42,
   "metadata": {},
   "outputs": [
    {
     "data": {
      "image/png": "[encoded data removed]",
      "text/plain": [
       "<Figure size 432x288 with 2 Axes>"
      ]
     },
     "metadata": {
      "needs_background": "light"
     },
     "output_type": "display_data"
    },
    {
     "data": {
      "image/png": "[encoded data removed]",
      "text/plain": [
       "<Figure size 432x288 with 2 Axes>"
      ]
     },
     "metadata": {
      "needs_background": "light"
     },
     "output_type": "display_data"
    }
   ],
   "source": [
    "plt.figure(1)\n",
    "plt.subplot(1,2,1)\n",
    "male.hist(density=0,histtype='stepfilled', bins=20, alpha=0.5,\n",
    "            color=sns.desaturate('indianred', 0.75))\n",
    "\n",
    "plt.subplot(1,2,2)\n",
    "female.hist(density=0, histtype='stepfilled', bins=20, alpha=0.5,\n",
    "           color=sns.desaturate('indianred', 0.75))\n",
    "\n",
    "\n",
    "plt.figure(2)\n",
    "\n",
    "plt.subplot(1,2,1)\n",
    "male.hist(density=1, histtype='step', cumulative=True, linewidth=5, bins=20,\n",
    "           alpha=0.5)\n",
    "\n",
    "plt.subplot(1,2,2)\n",
    "female.hist(density=1, histtype='step', cumulative=True, linewidth=5, bins=20,\n",
    "           alpha=0.5)\n",
    "\n",
    "plt.show()"
   ]
  },
  {
   "cell_type": "code",
   "execution_count": null,
   "metadata": {},
   "outputs": [],
   "source": []
  }
 ],
 "metadata": {
  "kernelspec": {
   "display_name": "Python 3",
   "language": "python",
   "name": "python3"
  },
  "language_info": {
   "codemirror_mode": {
    "name": "ipython",
    "version": 3
   },
   "file_extension": ".py",
   "mimetype": "text/x-python",
   "name": "python",
   "nbconvert_exporter": "python",
   "pygments_lexer": "ipython3",
   "version": "3.8.3"
  }
 },
 "nbformat": 4,
 "nbformat_minor": 4
}
